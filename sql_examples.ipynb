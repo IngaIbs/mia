{
 "cells": [
  {
   "cell_type": "markdown",
   "metadata": {},
   "source": [
    "# Examples using the SQL data source"
   ]
  },
  {
   "cell_type": "code",
   "execution_count": null,
   "metadata": {
    "collapsed": true
   },
   "outputs": [],
   "source": [
    "%matplotlib inline\n",
    "from matplotlib import pyplot as plt\n",
    "from config import db\n",
    "import numpy as np"
   ]
  },
  {
   "cell_type": "markdown",
   "metadata": {},
   "source": [
    "## ICD Groups\n",
    "\n",
    "* http://apps.who.int/classifications/icd10/browse/2016/en"
   ]
  },
  {
   "cell_type": "code",
   "execution_count": null,
   "metadata": {
    "collapsed": false
   },
   "outputs": [],
   "source": [
    "c = db.cursor()\n",
    "c.execute('''\n",
    "    SELECT DISTINCT char, count(char)\n",
    "    FROM (\n",
    "        SELECT lower(substr(icd_3stellig,1,1)) as char \n",
    "        FROM icd\n",
    "    )\n",
    "    GROUP BY char\n",
    "    ORDER BY char\n",
    "''')\n",
    "data = c.fetchall()\n",
    "ind = np.arange(len(data))\n",
    "fig, ax = plt.subplots()\n",
    "ax.bar(ind, [row[1] for row in data])\n",
    "ax.set_ylabel('occurences')\n",
    "ax.set_title('ICD Group amount by category')\n",
    "ax.set_xticks(ind + .4)\n",
    "ax.set_xticklabels(row[0] for row in data);"
   ]
  },
  {
   "cell_type": "markdown",
   "metadata": {},
   "source": [
    "### Specific ICD group example\n",
    "Pregnancy related stuff has an ICD starting with 'O'.\n",
    "\n",
    "* http://apps.who.int/classifications/icd10/browse/2016/en#/XV\n"
   ]
  },
  {
   "cell_type": "code",
   "execution_count": null,
   "metadata": {
    "collapsed": false
   },
   "outputs": [],
   "source": [
    "c = db.cursor()\n",
    "c.execute('''\n",
    "    SELECT alter_in_jahren_am_aufnahmetag \n",
    "    FROM records LEFT OUTER JOIN icd USING (pat_neu)\n",
    "    WHERE lower(substr(icd_3stellig,1,1)) = 'o'\n",
    "    ORDER BY alter_in_jahren_am_aufnahmetag\n",
    "''')\n",
    "data = c.fetchall()\n",
    "plt.title('{} Schwangerschaften'.format(len(data)))\n",
    "plt.axis([15, 50, 0, 40])\n",
    "plt.hist([row[0] for row in data], 20);"
   ]
  }
 ],
 "metadata": {
  "kernelspec": {
   "display_name": "Python 3",
   "language": "python",
   "name": "python3"
  },
  "language_info": {
   "codemirror_mode": {
    "name": "ipython",
    "version": 3
   },
   "file_extension": ".py",
   "mimetype": "text/x-python",
   "name": "python",
   "nbconvert_exporter": "python",
   "pygments_lexer": "ipython3",
   "version": "3.5.2"
  }
 },
 "nbformat": 4,
 "nbformat_minor": 1
}
