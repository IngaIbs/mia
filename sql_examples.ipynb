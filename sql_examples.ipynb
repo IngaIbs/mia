{
 "cells": [
  {
   "cell_type": "markdown",
   "metadata": {},
   "source": [
    "# Examples using the SQL data source"
   ]
  },
  {
   "cell_type": "code",
   "execution_count": null,
   "metadata": {
    "collapsed": false
   },
   "outputs": [],
   "source": [
    "%pylab inline\n",
    "from config import db\n",
    "from itertools import groupby"
   ]
  },
  {
   "cell_type": "markdown",
   "metadata": {},
   "source": [
    "## ICD Groups\n",
    "\n",
    "* http://apps.who.int/classifications/icd10/browse/2016/en"
   ]
  },
  {
   "cell_type": "code",
   "execution_count": null,
   "metadata": {
    "collapsed": false
   },
   "outputs": [],
   "source": [
    "c = db.cursor()\n",
    "c.execute('''\n",
    "    SELECT DISTINCT char, count(char)\n",
    "    FROM (\n",
    "        SELECT upper(substr(icd_3stellig,1,1)) as char \n",
    "        FROM icd\n",
    "    )\n",
    "    GROUP BY char\n",
    "    ORDER BY char\n",
    "''')\n",
    "data = c.fetchall()\n",
    "bar(range(len(data)), [row[1] for row in data])\n",
    "ylabel('Occurences')\n",
    "xlabel('Classification Group')\n",
    "xticks(np.arange(len(data)) + .4, (row[0] for row in data))\n",
    "title('ICD Group amount by category');"
   ]
  },
  {
   "cell_type": "markdown",
   "metadata": {},
   "source": [
    "### Top 10 diseases in the biggest group"
   ]
  },
  {
   "cell_type": "code",
   "execution_count": null,
   "metadata": {
    "collapsed": false
   },
   "outputs": [],
   "source": [
    "c = db.cursor()\n",
    "c.execute('''\n",
    "    SELECT DISTINCT icd_3stellig, icd_klarname, count(icd_3stellig)\n",
    "    FROM icd\n",
    "    WHERE lower(substr(icd_3stellig,1,1)) = 'i'\n",
    "    GROUP BY icd_3stellig\n",
    "    ORDER BY count(icd_3stellig) DESC\n",
    "    LIMIT 10\n",
    "''')\n",
    "data = c.fetchall()\n",
    "barh(range(len(data)), [row[2] for row in data], align='center')\n",
    "yticks(range(len(data)), (row[1] for row in data))\n",
    "xlabel('Occurences')\n",
    "title('Most common diseases of the circulatory system');"
   ]
  },
  {
   "cell_type": "markdown",
   "metadata": {},
   "source": [
    "### Specific ICD group example\n",
    "Pregnancy related stuff has an ICD starting with 'O'.\n",
    "\n",
    "* http://apps.who.int/classifications/icd10/browse/2016/en#/XV\n"
   ]
  },
  {
   "cell_type": "code",
   "execution_count": null,
   "metadata": {
    "collapsed": false
   },
   "outputs": [],
   "source": [
    "c = db.cursor()\n",
    "c.execute('''\n",
    "    SELECT alter_in_jahren_am_aufnahmetag \n",
    "    FROM records LEFT OUTER JOIN icd USING (pat_neu)\n",
    "    WHERE lower(substr(icd_3stellig,1,1)) = 'o'\n",
    "    ORDER BY alter_in_jahren_am_aufnahmetag\n",
    "''')\n",
    "data = c.fetchall()\n",
    "hist([row[0] for row in data], 20)\n",
    "title('{} Schwangerschaften'.format(len(data)))\n",
    "axis([15, 50, 0, 40]);"
   ]
  }
 ],
 "metadata": {
  "kernelspec": {
   "display_name": "Python 3",
   "language": "python",
   "name": "python3"
  },
  "language_info": {
   "codemirror_mode": {
    "name": "ipython",
    "version": 3
   },
   "file_extension": ".py",
   "mimetype": "text/x-python",
   "name": "python",
   "nbconvert_exporter": "python",
   "pygments_lexer": "ipython3",
   "version": "3.5.2"
  }
 },
 "nbformat": 4,
 "nbformat_minor": 1
}
