{
 "cells": [
  {
   "cell_type": "markdown",
   "metadata": {},
   "source": [
    "# Initial Table Setup"
   ]
  },
  {
   "cell_type": "code",
   "execution_count": null,
   "metadata": {
    "collapsed": false
   },
   "outputs": [],
   "source": [
    "from os import path\n",
    "import pandas\n",
    "from datetime import datetime\n",
    "from config import db\n",
    "from utils import snake_case\n",
    "\n",
    "FOLDER = 'data'\n",
    "RECORDS = 'FALL_KH101.xlsx'\n",
    "LAB = 'Labor 4Q_2015_KH101.xlsx'\n",
    "ICD = 'ICD_KH101.xlsx'\n",
    "OPS = 'OPS_KH101.xlsx'\n",
    "TARIFTABELLE = 'Tariftabelle_Rohdaten.xlsx'\n",
    "\n",
    "dates = {\n",
    "    'aufnahmedatum': '%Y%m%d%H%M',\n",
    "    'entlassungsdatum': '%Y%m%d%H%M',\n",
    "    'behandlungsbeginn_vorstationaer': '%Y%m%d',\n",
    "    'behandlungsende_nachstationaer': '%Y%m%d',\n",
    "    'admd': '%d.%m.%Y',\n",
    "    'freeddate': '%Y-%m-%d %H:%M:%S',\n",
    "    'ops_datum': '%Y%m%d%H%M',\n",
    "    'aufn_datum': '%m/%d/%Y', # does seemingly not work\n",
    "    'datf': '%d.%m.%Y',\n",
    "    'datt': '%d.%m.%Y',\n",
    "    'crd': '%d.%m.%Y',\n",
    "    'chd': '%d.%m.%Y',\n",
    "}\n",
    "\n",
    "bools = {\n",
    "  'belegoperateur': 'J/N',\n",
    "  'beleganaesthesist': 'J/N',\n",
    "  'beleghebamme': 'J/N',\n",
    "}\n",
    "\n",
    "colmap = {\n",
    "    'alter': 'age',\n",
    "    '5_ops': 'five_ops',\n",
    "}"
   ]
  },
  {
   "cell_type": "markdown",
   "metadata": {},
   "source": [
    "## Create Tables\n",
    "Create tables from sql files. Drops all tables before recreating them, so watchout for data loss!\n"
   ]
  },
  {
   "cell_type": "code",
   "execution_count": null,
   "metadata": {
    "collapsed": false
   },
   "outputs": [],
   "source": [
    "# How to get formated column names:\n",
    "# from utils import snake_case\n",
    "# records = pandas.read_excel(path.join(FOLDER, ICD), header=1)\n",
    "# cols = (snake_case(record) for record in records)\n",
    "# cols = (colmap[col] if col in colmap else col for col in cols)\n",
    "\n",
    "sql_files = [\n",
    "    'sql/records.sql',\n",
    "    'sql/lab.sql',\n",
    "    'sql/icd.sql',\n",
    "    'sql/ops.sql',\n",
    "    'sql/tarifs.sql',\n",
    "]\n",
    "\n",
    "with db:\n",
    "    for sql_file_name in sql_files:\n",
    "        with open(sql_file_name, 'r') as sql_file:\n",
    "            sql = sql_file.read()\n",
    "        table_name = path.splitext(path.basename(sql_file_name))[0]\n",
    "        try:\n",
    "            db.execute('DROP TABLE IF EXISTS {};'.format(table_name))\n",
    "        except sqlite3.OperationalError as error:\n",
    "            print('SQLite couldn\\'t drop table %s \\n %s' % (table_name, error))\n",
    "            exit(1)\n",
    "        try:\n",
    "            db.execute(sql)\n",
    "        except sqlite3.OperationalError as error:\n",
    "            print('SQLite Query caused error.\\n\\n%s\\n\\n%s' % (sql, error))\n",
    "            exit(1)"
   ]
  },
  {
   "cell_type": "code",
   "execution_count": null,
   "metadata": {
    "collapsed": false
   },
   "outputs": [],
   "source": [
    "def insert_many(table, records):\n",
    "    def insert(table, cols, rows):\n",
    "        wild = ', '.join('?' * len(cols))\n",
    "        colstr = ', '.join(cols)\n",
    "        with db:\n",
    "            query = 'INSERT INTO {} ({}) VALUES ({})'.format(table, colstr, wild)\n",
    "            return db.executemany(query, rows)\n",
    "        \n",
    "    c = db.execute('PRAGMA table_info({})'.format(table))\n",
    "    cols = [tup[1] for tup in c.fetchall()]\n",
    "    if '%s_id' % table in cols: cols.remove('%s_id' % table)\n",
    "    csvcols = [snake_case(csvcol) for csvcol in records]\n",
    "    csvcols = [colmap[c] if c in colmap else c for c in csvcols]\n",
    "    colkeys = [csvcols.index(c) for c in cols]\n",
    "\n",
    "    rows = []\n",
    "    for rowidx, record in records.iterrows():\n",
    "        values = list(record[colkeys])\n",
    "        for idx, val in enumerate(values):\n",
    "            if cols[idx] in dates.keys():\n",
    "                try:\n",
    "                    val = int(val) if isinstance(val, float) else val\n",
    "                    values[idx] = datetime.strptime(str(val), dates[cols[idx]])\n",
    "                except ValueError:\n",
    "                    values[idx] = None\n",
    "            if cols[idx] in bools.keys():\n",
    "                values[idx] = bools[cols[idx]].split('/').index(val) == 0\n",
    "            if val != val: # NaN\n",
    "                values[idx] = None\n",
    "        rows.append(values)\n",
    "        \n",
    "        # Intermediate insert\n",
    "        if len(rows) >= 1000:\n",
    "            print('inserted {} of {} rows...'.format(rowidx+1, len(records.index)))\n",
    "            insert(table, cols, rows)\n",
    "            rows = []\n",
    "\n",
    "    # Final insert\n",
    "    insert(table, cols, rows)"
   ]
  },
  {
   "cell_type": "markdown",
   "metadata": {},
   "source": [
    "## Insert records data\n",
    "Reads the `RECORDS` file defined above and inserts all its records into the `records` table according to the inthere defined columns. Fails if any of the records are already in there (unique constraints)."
   ]
  },
  {
   "cell_type": "code",
   "execution_count": null,
   "metadata": {
    "collapsed": false
   },
   "outputs": [],
   "source": [
    "records = pandas.read_excel(path.join(FOLDER, RECORDS), header=2)\n",
    "insert_many('records', records)"
   ]
  },
  {
   "cell_type": "markdown",
   "metadata": {},
   "source": [
    "## Insert lab data\n",
    "Reading the excel sheet will take a while. Needs some better way for bigger datasets in the future."
   ]
  },
  {
   "cell_type": "code",
   "execution_count": null,
   "metadata": {
    "collapsed": false
   },
   "outputs": [],
   "source": [
    "records = pandas.read_excel(path.join(FOLDER, LAB), header=0)"
   ]
  },
  {
   "cell_type": "code",
   "execution_count": null,
   "metadata": {
    "collapsed": false,
    "scrolled": true
   },
   "outputs": [],
   "source": [
    "insert_many('lab', records)"
   ]
  },
  {
   "cell_type": "markdown",
   "metadata": {},
   "source": [
    "## Insert ICD data"
   ]
  },
  {
   "cell_type": "code",
   "execution_count": null,
   "metadata": {
    "collapsed": false
   },
   "outputs": [],
   "source": [
    "records = pandas.read_excel(path.join(FOLDER, ICD), header=1)\n",
    "insert_many('icd', records)"
   ]
  },
  {
   "cell_type": "markdown",
   "metadata": {},
   "source": [
    "## Insert OPS data"
   ]
  },
  {
   "cell_type": "code",
   "execution_count": null,
   "metadata": {
    "collapsed": false
   },
   "outputs": [],
   "source": [
    "records = pandas.read_excel(path.join(FOLDER, OPS), header=0)\n",
    "insert_many('ops', records)"
   ]
  },
  {
   "cell_type": "markdown",
   "metadata": {},
   "source": [
    "## Insert tarifs"
   ]
  },
  {
   "cell_type": "code",
   "execution_count": null,
   "metadata": {
    "collapsed": false
   },
   "outputs": [],
   "source": [
    "records = pandas.read_excel(path.join(FOLDER, TARIFTABELLE), header=0)\n",
    "insert_many('tarifs', records)"
   ]
  },
  {
   "cell_type": "code",
   "execution_count": null,
   "metadata": {
    "collapsed": true
   },
   "outputs": [],
   "source": []
  }
 ],
 "metadata": {
  "kernelspec": {
   "display_name": "Python 3",
   "language": "python",
   "name": "python3"
  },
  "language_info": {
   "codemirror_mode": {
    "name": "ipython",
    "version": 3
   },
   "file_extension": ".py",
   "mimetype": "text/x-python",
   "name": "python",
   "nbconvert_exporter": "python",
   "pygments_lexer": "ipython3",
   "version": "3.5.1"
  }
 },
 "nbformat": 4,
 "nbformat_minor": 1
}
